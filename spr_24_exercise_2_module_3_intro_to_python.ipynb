{
  "cells": [
    {
      "cell_type": "markdown",
      "metadata": {
        "id": "view-in-github",
        "colab_type": "text"
      },
      "source": [
        "<a href=\"https://colab.research.google.com/github/cierralarke/cmst386/blob/main/spr_24_exercise_2_module_3_intro_to_python.ipynb\" target=\"_parent\"><img src=\"https://colab.research.google.com/assets/colab-badge.svg\" alt=\"Open In Colab\"/></a>"
      ]
    },
    {
      "cell_type": "markdown",
      "metadata": {
        "id": "tEIgKORgbIS_"
      },
      "source": [
        "# Introduction to Python\n",
        "\n",
        "## What is Python?\n",
        "\n",
        "Python is a general-purpose programming language that is used for a wide variety of tasks, including web development, data science, and machine learning. It is a relatively easy language to learn, and it is very powerful.\n",
        "\n",
        "## What are the benefits of using Python?\n",
        "\n",
        "There are many benefits to using Python, including:\n",
        "\n",
        "* It is a very easy language to learn.\n",
        "* It is very powerful.\n",
        "* It has a large and active community of developers.\n",
        "* There are many libraries and frameworks available for Python.\n",
        "* It is free and open source.\n",
        "\n",
        "## How to get started with Python\n",
        "\n",
        "There are many ways to get started with Python. You can:\n",
        "\n",
        "* Take a Python tutorial.\n",
        "* Read a Python book.\n",
        "* Watch a Python video tutorial.\n",
        "* Join a Python online community.\n",
        "* Start coding!\n",
        "\n",
        "## Basic Python syntax\n",
        "\n",
        "Python syntax is very simple. Here are some basic Python syntax rules:\n",
        "\n",
        "* Variables are declared using the `var_name = value` syntax.\n",
        "* Expressions are evaluated from left to right.\n",
        "* Statements are terminated by a newline character.\n",
        "* Comments are started with a `#` character.\n",
        "\n",
        "## Data types\n",
        "\n",
        "Python has a variety of data types, including:\n",
        "\n",
        "* Numbers\n",
        "* Strings\n",
        "* Lists\n",
        "* Dictionaries\n",
        "* Sets\n",
        "* Booleans\n",
        "\n",
        "## Operators\n",
        "\n",
        "Python has a variety of operators, including:\n",
        "\n",
        "* Arithmetic operators\n",
        "* Comparison operators\n",
        "* Logical operators\n",
        "* Assignment operators\n",
        "* Bitwise operators\n",
        "* Membership operators\n",
        "* Identity operators\n",
        "\n",
        "## Control flow\n",
        "\n",
        "Python has a variety of control flow statements, including:\n",
        "\n",
        "* `if` statements\n",
        "* `elif` statements\n",
        "* `else` statements\n",
        "* `for` loops\n",
        "* `while` loops\n",
        "* `break` statements\n",
        "* `continue` statements\n",
        "* `return` statements\n",
        "\n",
        "## Functions\n",
        "\n",
        "Functions are a way to group together code so that it can be reused. Functions are defined using the `def` keyword.\n",
        "\n",
        "## Modules\n",
        "\n",
        "Modules are a way to organize code into files. Modules are imported using the `import` keyword.\n",
        "\n",
        "## Classes\n",
        "\n",
        "Classes are a way to create custom data types. Classes are defined using the `class` keyword.\n",
        "\n",
        "## Object-oriented programming\n",
        "\n",
        "Object-oriented programming (OOP) is a programming paradigm that uses objects to represent data and behavior. OOP is a powerful way to write code that is easy to maintain and extend.\n",
        "\n",
        "## Conclusion\n",
        "\n",
        "This is just a brief introduction to Python. There is much more to learn about Python, but this should give you a good starting point."
      ]
    },
    {
      "cell_type": "markdown",
      "metadata": {
        "id": "EPIlG_eUbmgs"
      },
      "source": [
        "# 7 Exercise to help you get acquianted with Python:"
      ]
    },
    {
      "cell_type": "code",
      "execution_count": 5,
      "metadata": {
        "colab": {
          "base_uri": "https://localhost:8080/"
        },
        "id": "Zaz2gFIcbjGf",
        "outputId": "301dd672-f1c6-4adf-df86-d4e93b42109b"
      },
      "outputs": [
        {
          "output_type": "stream",
          "name": "stdout",
          "text": [
            "Hello, World!\n",
            "['cherries', 'grapes', 'mandarine oranges', 'pears']\n"
          ]
        }
      ],
      "source": [
        "# 1. Write a program that prints \"Hello, world!\", where the variable returns \"Hello, world!\"\n",
        "\n",
        "\n",
        "greeting = \"Hello, World!\"\n",
        "print(greeting)\n",
        "\n",
        "#create a variable called favorite_fruits and return that list of your favorite fruits in alphabetical order\n",
        "\n",
        "favorite_fruits = (\"grapes\", \"mandarine oranges\", \"cherries\", \"pears\")\n",
        "\n",
        "ff = sorted(favorite_fruits)\n",
        "\n",
        "print(ff)\n",
        "\n",
        "# hint would be to google list in alphabetical order\n",
        "\n"
      ]
    },
    {
      "cell_type": "code",
      "execution_count": 4,
      "metadata": {
        "colab": {
          "base_uri": "https://localhost:8080/"
        },
        "id": "UCXjL5GCbjRh",
        "outputId": "7c85459e-c39d-4a7e-c12d-62a18e9bf995"
      },
      "outputs": [
        {
          "output_type": "stream",
          "name": "stdout",
          "text": [
            "Enter your name: Cierra\n",
            "Hello, Cierra!\n",
            "Enter your favorite sport: football\n",
            "My neighbor loves football too!\n",
            "Enter your favorite food: shrimp\n",
            "There is always room for shrimp!\n"
          ]
        }
      ],
      "source": [
        "# 2. Write a program that asks a user for their name and prints \"Hello , [username]!\"\n",
        "\n",
        "username = input(\"Enter your name: \")\n",
        "\n",
        "print(\"Hello, \" + username + \"!\")\n",
        "\n",
        "# Add on your favorite sport and food to the initial program above\n",
        "\n",
        "fav_sport = input(\"Enter your favorite sport: \")\n",
        "print(\"My neighbor loves \" + fav_sport + \" too!\")\n",
        "\n",
        "fav_food = input(\"Enter your favorite food: \")\n",
        "print(\"There is always room for \" + fav_food + \"!\")"
      ]
    },
    {
      "cell_type": "code",
      "execution_count": 7,
      "metadata": {
        "colab": {
          "base_uri": "https://localhost:8080/"
        },
        "id": "0LFq5QDdbjYs",
        "outputId": "1ab9b19b-e3ce-448b-f9c5-0b603afb390a"
      },
      "outputs": [
        {
          "output_type": "execute_result",
          "data": {
            "text/plain": [
              "450"
            ]
          },
          "metadata": {},
          "execution_count": 7
        }
      ],
      "source": [
        "# 3. Write a program that defines a function where it takes two numbers and returns their sum?\n",
        "\n",
        "def sum(a,b):\n",
        "    return a + b\n",
        "\n",
        "sum(880,12)\n",
        "\n",
        "# take in 5 numbers and return the product\n",
        "\n",
        "def mul(a,b,c,d,e):\n",
        "    return a * b * c * d * e\n",
        "\n",
        "mul(2,3,5,3,5)"
      ]
    },
    {
      "cell_type": "code",
      "execution_count": 9,
      "metadata": {
        "colab": {
          "base_uri": "https://localhost:8080/"
        },
        "id": "A05M9opibjcz",
        "outputId": "1a37c275-21b4-4788-e6c9-223c75d780e1"
      },
      "outputs": [
        {
          "output_type": "stream",
          "name": "stdout",
          "text": [
            "The text has this number of vowels  7\n"
          ]
        }
      ],
      "source": [
        "# 4. Write a fucntion that takes the input of any string and returns the length of it?\n",
        "\n",
        "def lenstr(sometext):\n",
        "    return len(sometext)\n",
        "\n",
        "lenstr(\"BartSimpson\")\n",
        "\n",
        "# return total number of vowels in a string\n",
        "\n",
        "sample = \"hot honey hamburger buns\"\n",
        "\n",
        "vowels = [\"a\", \"e\", \"i\", \"o\", \"u\"]\n",
        "count = 0\n",
        "\n",
        "for letter in sample:\n",
        "    if letter in vowels:\n",
        "        count += 1\n",
        "\n",
        "\n",
        "print(\"The text has this number of vowels \", count)"
      ]
    },
    {
      "cell_type": "code",
      "execution_count": null,
      "metadata": {
        "id": "CakTCL2CbjgX"
      },
      "outputs": [],
      "source": [
        "# 5. Create a function that takes a list of numbers and returns the smallest,largest and\n",
        "# the average and then the sum.\n",
        "\n",
        "# return standard deviation value of a list of 7 numbers\n",
        "# hint stdev is inside statistics library, use google for specific syntax\n",
        "\n",
        "#import statistics\n",
        "\n"
      ]
    },
    {
      "cell_type": "code",
      "execution_count": null,
      "metadata": {
        "id": "5ze_JlTVbjkO"
      },
      "outputs": [],
      "source": [
        "#  6. Write a function that  sums only the even numbers and then, only the odd numbers in a list.\n",
        "\n",
        "# write a function that only sums the first and last number in a list\n",
        "\n",
        "\n"
      ]
    },
    {
      "cell_type": "code",
      "execution_count": null,
      "metadata": {
        "id": "QJv4-_BQbjnd"
      },
      "outputs": [],
      "source": [
        "# 7. Create a function that takes any string and returns it in reverse:\n",
        "\n",
        "# returns a string without any vowels\n",
        "\n",
        "# Example Hello ---> olleh\n",
        "\n"
      ]
    }
  ],
  "metadata": {
    "colab": {
      "provenance": [],
      "include_colab_link": true
    },
    "kernelspec": {
      "display_name": "Python 3",
      "name": "python3"
    },
    "language_info": {
      "codemirror_mode": {
        "name": "ipython",
        "version": 3
      },
      "file_extension": ".py",
      "mimetype": "text/x-python",
      "name": "python",
      "nbconvert_exporter": "python",
      "pygments_lexer": "ipython3",
      "version": "3.8.13"
    }
  },
  "nbformat": 4,
  "nbformat_minor": 0
}